{
 "cells": [
  {
   "cell_type": "markdown",
   "metadata": {},
   "source": [
    "## Exercícios da aula 1"
   ]
  },
  {
   "cell_type": "markdown",
   "metadata": {},
   "source": [
    "**(1)** Dado que\n",
    "$$\n",
    "    z = \\frac{x^4 - 4 x^3 y + 6 x^2 y^2 - 4 x y^3 + y^4}{x^2 - 2 x y + y^2} \\,,\n",
    "$$\n",
    "\n",
    "utilize um loop para calcular o valor de $z$ para cada uma das duplas de valores de $x$ e $y$: (1, 0), (4, 3) e (25, 25). (Dois asteríscos representam exponenciação em Python)."
   ]
  },
  {
   "cell_type": "markdown",
   "metadata": {},
   "source": [
    "**(2)** Crie duas strings com comprimento múltiplo de três e concatene as duas em uma terceira string. Depois separe o resultado em três strings de comprimentos iguais."
   ]
  },
  {
   "cell_type": "markdown",
   "metadata": {},
   "source": [
    "**(3)** Toda variável tupla possui um método `count`. Crie uma tupla com os seguintes elementos: 1, 2, 2, 3, 4, 4, 4, 5. Depois utilize a função `count` para verificar quantas vezes o número 4 aparece na tupla."
   ]
  },
  {
   "cell_type": "markdown",
   "metadata": {},
   "source": [
    "**(4)** Gere uma lista de contendo os múltiplos de 3 entre 1 e 50."
   ]
  },
  {
   "cell_type": "markdown",
   "metadata": {},
   "source": [
    "**(5)** Dada a lista [5, 7, 2, 9, 4, 1, 3], imprima as seguintes informações:\n",
    "\n",
    "    a) Tamanho da lista.\n",
    "    b) Lista em ordem crescente.\n",
    "    c) Lista em ordem decrescente."
   ]
  },
  {
   "cell_type": "markdown",
   "metadata": {},
   "source": [
    "**(6)** Dada a sequência:\n",
    "\n",
    "    L = [5, 5, 8, 6, 4, 8, 6, 3, 5, 7, 10, 18, 7, 6, 7, 6, 9, 9, 2, 4],\n",
    "\n",
    "crie uma variável que guarde o número de vezes em que cada número aparece na sequência. Imprima as duas variáveis conjuntamente, elemento por elemento (histograma)."
   ]
  },
  {
   "cell_type": "markdown",
   "metadata": {},
   "source": [
    "**(7)** Crie um dicionário com 5 chaves e 5 valores e imprima cada dupla chave/valor de maneira ordenada alfabeticamente pelos nomes das chaves."
   ]
  },
  {
   "cell_type": "markdown",
   "metadata": {},
   "source": [
    "**(8)** Adicione mais uma entrada (`'chave': valor`) ao dicionário criado no exercício anterior e imprima na tela (se preciso, utilize a função `help` para saber como adicionar uma entrada a um dicionário)."
   ]
  },
  {
   "cell_type": "markdown",
   "metadata": {},
   "source": [
    "**(9)** Dada a tabela de preços em uma lanchonete a seguir, crie um dicionário que a represente:\n",
    "\n",
    "   | Produtos     | Preços (R$) |\n",
    "   |:-------------|:------------|\n",
    "   | Salgado      | 4.50        |\n",
    "   | Lanche       | 6.50        |\n",
    "   | Suco         | 3.00        |\n",
    "   | Refrigerante | 3.50        |\n",
    "   | Doce         | 1.00        |"
   ]
  },
  {
   "cell_type": "markdown",
   "metadata": {},
   "source": [
    "**(10)** Crie um dicionário com 5 nomes de alunos e suas notas. Calcule a média aritmética e o desvio padrão dessas notas."
   ]
  }
 ],
 "metadata": {
  "kernelspec": {
   "display_name": "Python [default]",
   "language": "python",
   "name": "python2"
  },
  "language_info": {
   "codemirror_mode": {
    "name": "ipython",
    "version": 2
   },
   "file_extension": ".py",
   "mimetype": "text/x-python",
   "name": "python",
   "nbconvert_exporter": "python",
   "pygments_lexer": "ipython2",
   "version": "2.7.14"
  },
  "toc": {
   "nav_menu": {},
   "number_sections": true,
   "sideBar": true,
   "skip_h1_title": false,
   "toc_cell": false,
   "toc_position": {},
   "toc_section_display": "block",
   "toc_window_display": false
  }
 },
 "nbformat": 4,
 "nbformat_minor": 2
}
